{
  "nbformat": 4,
  "nbformat_minor": 0,
  "metadata": {
    "colab": {
      "name": "Eurasmus+Data: Multi-indexed data unstacking and visualization.ipynb",
      "provenance": [],
      "collapsed_sections": [],
      "authorship_tag": "ABX9TyOZXVpqNevYRBqVu3LEZdnf",
      "include_colab_link": true
    },
    "kernelspec": {
      "name": "python3",
      "display_name": "Python 3"
    },
    "language_info": {
      "name": "python"
    }
  },
  "cells": [
    {
      "cell_type": "markdown",
      "metadata": {
        "id": "view-in-github",
        "colab_type": "text"
      },
      "source": [
        "<a href=\"https://colab.research.google.com/github/k-soliman/k-soliman.github.io/blob/main/Eurasmus%2BData_Multi_indexed_data_unstacking_and_visualization.ipynb\" target=\"_parent\"><img src=\"https://colab.research.google.com/assets/colab-badge.svg\" alt=\"Open In Colab\"/></a>"
      ]
    },
    {
      "cell_type": "markdown",
      "source": [
        "<h1> Unstacking and Viz. of Multi-indexed data </h> <h1> Eurasmus+ Project Results </h> \n",
        "\n",
        "Author: Kareem Soliman, PhD B.Sc. Pharm.\n",
        "\n",
        "Date of publishing: 17 December 2021"
      ],
      "metadata": {
        "id": "KtIpq7tzBYKr"
      }
    },
    {
      "cell_type": "code",
      "execution_count": 113,
      "metadata": {
        "id": "3v_0VHQ2_Vcb"
      },
      "outputs": [],
      "source": [
        "import numpy as np\n",
        "import pandas as pd\n",
        "import matplotlib "
      ]
    },
    {
      "cell_type": "markdown",
      "source": [
        "Reading data in pandas\n"
      ],
      "metadata": {
        "id": "yvitpzwHCO9w"
      }
    },
    {
      "cell_type": "code",
      "source": [
        "data_global = pd.read_csv('/content/ErasmusPlus_Projects_Search_Global.xlsx - eplus.csv')\n",
        "data_germany = pd.read_csv('/content/ErasmusPlus_Projects_Search_Results-Germany.xls - eplus.csv')\n",
        "data_egypt = pd.read_csv('/content/ErasmusPlus_Projects_Search_Egypt.xlsx - eplus.csv')"
      ],
      "metadata": {
        "id": "YKULcjctAlko"
      },
      "execution_count": 199,
      "outputs": []
    },
    {
      "cell_type": "code",
      "source": [
        "data_global.dtypes"
      ],
      "metadata": {
        "colab": {
          "base_uri": "https://localhost:8080/"
        },
        "id": "FamSXMTDB1od",
        "outputId": "4dab7980-7e8c-4883-f6de-e6f1ac2e6a9d"
      },
      "execution_count": 222,
      "outputs": [
        {
          "output_type": "execute_result",
          "data": {
            "text/plain": [
              "Programme                                                                                                                                                                                                                object\n",
              "Key Action                                                                                                                                                                                                               object\n",
              "Action Type                                                                                                                                                                                                              object\n",
              "Funding Year                                                                                                                                                                                                            float64\n",
              "Project Identifier                                                                                                                                                                                                       object\n",
              "External Reference                                                                                                                                                                                                       object\n",
              "National Identifier                                                                                                                                                                                                      object\n",
              "Project Title                                                                                                                                                                                                            object\n",
              "Project Summary                                                                                                                                                                                                          object\n",
              "Topics                                                                                                                                                                                                                   object\n",
              "Results Platform Project Card                                                                                                                                                                                            object\n",
              "Coordinating organisation name                                                                                                                                                                                           object\n",
              "Coordinator's country                                                                                                                                                                                                    object\n",
              "Participating Countries                                                                                                                                                                                                  object\n",
              "EU Grant award in euros (This amount represents the grant awarded after the selection stage and is indicative. Please note that any changes made during or after the project's lifetime will not be reflected here.)     object\n",
              "Is Good Practice                                                                                                                                                                                                         object\n",
              "Is Success Story                                                                                                                                                                                                         object\n",
              "dtype: object"
            ]
          },
          "metadata": {},
          "execution_count": 222
        }
      ]
    },
    {
      "cell_type": "code",
      "source": [
        "#global\n",
        "Success_story_global = data_global.groupby(\"Funding Year\")[\"Is Success Story\"].value_counts().unstack().fillna(0)\n",
        "Good_Practice_global = data_global.groupby(\"Funding Year\")[\"Is Good Practice\"].value_counts().unstack().fillna(0)\n",
        "\n",
        "#Germany\n",
        "Success_story_Germany = data_germany.groupby(\"Funding Year\")[\"Is Success Story\"].value_counts().unstack().fillna(0)\n",
        "Good_Practice_Germany = data_germany.groupby(\"Funding Year\")[\"Is Good Practice\"].value_counts().unstack().fillna(0)\n",
        "\n",
        "#Egypt\n",
        "Success_story_Egypt = data_egypt.groupby(\"Funding Year\")[\"Is Success Story\"].value_counts().unstack().fillna(0)\n",
        "Good_Practice_Egypt = data_egypt.groupby(\"Funding Year\")[\"Is Good Practice\"].value_counts().unstack().fillna(0)"
      ],
      "metadata": {
        "id": "5crOxmQOCctQ"
      },
      "execution_count": 201,
      "outputs": []
    },
    {
      "cell_type": "code",
      "source": [
        "Good_Practice_global.head(4)"
      ],
      "metadata": {
        "colab": {
          "base_uri": "https://localhost:8080/",
          "height": 201
        },
        "id": "4Onx7QzvDiBV",
        "outputId": "d5a28988-e6e1-49d9-8e6e-e355c6e5f4f0"
      },
      "execution_count": 204,
      "outputs": [
        {
          "output_type": "execute_result",
          "data": {
            "text/html": [
              "\n",
              "  <div id=\"df-2fbc5e3f-519b-4e94-8bc8-24da0f675ed6\">\n",
              "    <div class=\"colab-df-container\">\n",
              "      <div>\n",
              "<style scoped>\n",
              "    .dataframe tbody tr th:only-of-type {\n",
              "        vertical-align: middle;\n",
              "    }\n",
              "\n",
              "    .dataframe tbody tr th {\n",
              "        vertical-align: top;\n",
              "    }\n",
              "\n",
              "    .dataframe thead th {\n",
              "        text-align: right;\n",
              "    }\n",
              "</style>\n",
              "<table border=\"1\" class=\"dataframe\">\n",
              "  <thead>\n",
              "    <tr style=\"text-align: right;\">\n",
              "      <th>Is Good Practice</th>\n",
              "      <th>No</th>\n",
              "      <th>Yes</th>\n",
              "    </tr>\n",
              "    <tr>\n",
              "      <th>Funding Year</th>\n",
              "      <th></th>\n",
              "      <th></th>\n",
              "    </tr>\n",
              "  </thead>\n",
              "  <tbody>\n",
              "    <tr>\n",
              "      <th>2014.0</th>\n",
              "      <td>8.0</td>\n",
              "      <td>155.0</td>\n",
              "    </tr>\n",
              "    <tr>\n",
              "      <th>2015.0</th>\n",
              "      <td>0.0</td>\n",
              "      <td>85.0</td>\n",
              "    </tr>\n",
              "    <tr>\n",
              "      <th>2016.0</th>\n",
              "      <td>0.0</td>\n",
              "      <td>41.0</td>\n",
              "    </tr>\n",
              "    <tr>\n",
              "      <th>2017.0</th>\n",
              "      <td>0.0</td>\n",
              "      <td>41.0</td>\n",
              "    </tr>\n",
              "  </tbody>\n",
              "</table>\n",
              "</div>\n",
              "      <button class=\"colab-df-convert\" onclick=\"convertToInteractive('df-2fbc5e3f-519b-4e94-8bc8-24da0f675ed6')\"\n",
              "              title=\"Convert this dataframe to an interactive table.\"\n",
              "              style=\"display:none;\">\n",
              "        \n",
              "  <svg xmlns=\"http://www.w3.org/2000/svg\" height=\"24px\"viewBox=\"0 0 24 24\"\n",
              "       width=\"24px\">\n",
              "    <path d=\"M0 0h24v24H0V0z\" fill=\"none\"/>\n",
              "    <path d=\"M18.56 5.44l.94 2.06.94-2.06 2.06-.94-2.06-.94-.94-2.06-.94 2.06-2.06.94zm-11 1L8.5 8.5l.94-2.06 2.06-.94-2.06-.94L8.5 2.5l-.94 2.06-2.06.94zm10 10l.94 2.06.94-2.06 2.06-.94-2.06-.94-.94-2.06-.94 2.06-2.06.94z\"/><path d=\"M17.41 7.96l-1.37-1.37c-.4-.4-.92-.59-1.43-.59-.52 0-1.04.2-1.43.59L10.3 9.45l-7.72 7.72c-.78.78-.78 2.05 0 2.83L4 21.41c.39.39.9.59 1.41.59.51 0 1.02-.2 1.41-.59l7.78-7.78 2.81-2.81c.8-.78.8-2.07 0-2.86zM5.41 20L4 18.59l7.72-7.72 1.47 1.35L5.41 20z\"/>\n",
              "  </svg>\n",
              "      </button>\n",
              "      \n",
              "  <style>\n",
              "    .colab-df-container {\n",
              "      display:flex;\n",
              "      flex-wrap:wrap;\n",
              "      gap: 12px;\n",
              "    }\n",
              "\n",
              "    .colab-df-convert {\n",
              "      background-color: #E8F0FE;\n",
              "      border: none;\n",
              "      border-radius: 50%;\n",
              "      cursor: pointer;\n",
              "      display: none;\n",
              "      fill: #1967D2;\n",
              "      height: 32px;\n",
              "      padding: 0 0 0 0;\n",
              "      width: 32px;\n",
              "    }\n",
              "\n",
              "    .colab-df-convert:hover {\n",
              "      background-color: #E2EBFA;\n",
              "      box-shadow: 0px 1px 2px rgba(60, 64, 67, 0.3), 0px 1px 3px 1px rgba(60, 64, 67, 0.15);\n",
              "      fill: #174EA6;\n",
              "    }\n",
              "\n",
              "    [theme=dark] .colab-df-convert {\n",
              "      background-color: #3B4455;\n",
              "      fill: #D2E3FC;\n",
              "    }\n",
              "\n",
              "    [theme=dark] .colab-df-convert:hover {\n",
              "      background-color: #434B5C;\n",
              "      box-shadow: 0px 1px 3px 1px rgba(0, 0, 0, 0.15);\n",
              "      filter: drop-shadow(0px 1px 2px rgba(0, 0, 0, 0.3));\n",
              "      fill: #FFFFFF;\n",
              "    }\n",
              "  </style>\n",
              "\n",
              "      <script>\n",
              "        const buttonEl =\n",
              "          document.querySelector('#df-2fbc5e3f-519b-4e94-8bc8-24da0f675ed6 button.colab-df-convert');\n",
              "        buttonEl.style.display =\n",
              "          google.colab.kernel.accessAllowed ? 'block' : 'none';\n",
              "\n",
              "        async function convertToInteractive(key) {\n",
              "          const element = document.querySelector('#df-2fbc5e3f-519b-4e94-8bc8-24da0f675ed6');\n",
              "          const dataTable =\n",
              "            await google.colab.kernel.invokeFunction('convertToInteractive',\n",
              "                                                     [key], {});\n",
              "          if (!dataTable) return;\n",
              "\n",
              "          const docLinkHtml = 'Like what you see? Visit the ' +\n",
              "            '<a target=\"_blank\" href=https://colab.research.google.com/notebooks/data_table.ipynb>data table notebook</a>'\n",
              "            + ' to learn more about interactive tables.';\n",
              "          element.innerHTML = '';\n",
              "          dataTable['output_type'] = 'display_data';\n",
              "          await google.colab.output.renderOutput(dataTable, element);\n",
              "          const docLink = document.createElement('div');\n",
              "          docLink.innerHTML = docLinkHtml;\n",
              "          element.appendChild(docLink);\n",
              "        }\n",
              "      </script>\n",
              "    </div>\n",
              "  </div>\n",
              "  "
            ],
            "text/plain": [
              "Is Good Practice   No    Yes\n",
              "Funding Year                \n",
              "2014.0            8.0  155.0\n",
              "2015.0            0.0   85.0\n",
              "2016.0            0.0   41.0\n",
              "2017.0            0.0   41.0"
            ]
          },
          "metadata": {},
          "execution_count": 204
        }
      ]
    },
    {
      "cell_type": "code",
      "source": [
        "print(Good_Practice_global.index)"
      ],
      "metadata": {
        "colab": {
          "base_uri": "https://localhost:8080/"
        },
        "id": "6upvIKwIHW5L",
        "outputId": "5eeb14e0-092b-4548-c2b7-8d90ce5fb374"
      },
      "execution_count": 180,
      "outputs": [
        {
          "output_type": "stream",
          "name": "stdout",
          "text": [
            "Float64Index([2014.0, 2015.0, 2016.0, 2017.0, 2018.0, 2019.0, 2020.0], dtype='float64', name='Funding Year')\n"
          ]
        }
      ]
    },
    {
      "cell_type": "code",
      "source": [
        "Good_Practice_Germany"
      ],
      "metadata": {
        "colab": {
          "base_uri": "https://localhost:8080/",
          "height": 291
        },
        "id": "6d5hSTjjNyyw",
        "outputId": "c63ab2bb-60fd-49b1-bba2-3b512a502ae5"
      },
      "execution_count": 182,
      "outputs": [
        {
          "output_type": "execute_result",
          "data": {
            "text/html": [
              "\n",
              "  <div id=\"df-996c1253-0ba6-4bb4-ab4e-7641d39b097b\">\n",
              "    <div class=\"colab-df-container\">\n",
              "      <div>\n",
              "<style scoped>\n",
              "    .dataframe tbody tr th:only-of-type {\n",
              "        vertical-align: middle;\n",
              "    }\n",
              "\n",
              "    .dataframe tbody tr th {\n",
              "        vertical-align: top;\n",
              "    }\n",
              "\n",
              "    .dataframe thead th {\n",
              "        text-align: right;\n",
              "    }\n",
              "</style>\n",
              "<table border=\"1\" class=\"dataframe\">\n",
              "  <thead>\n",
              "    <tr style=\"text-align: right;\">\n",
              "      <th>Is Good Practice</th>\n",
              "      <th>No</th>\n",
              "      <th>Yes</th>\n",
              "    </tr>\n",
              "    <tr>\n",
              "      <th>Funding Year</th>\n",
              "      <th></th>\n",
              "      <th></th>\n",
              "    </tr>\n",
              "  </thead>\n",
              "  <tbody>\n",
              "    <tr>\n",
              "      <th>2014.0</th>\n",
              "      <td>5.0</td>\n",
              "      <td>96.0</td>\n",
              "    </tr>\n",
              "    <tr>\n",
              "      <th>2015.0</th>\n",
              "      <td>0.0</td>\n",
              "      <td>66.0</td>\n",
              "    </tr>\n",
              "    <tr>\n",
              "      <th>2016.0</th>\n",
              "      <td>0.0</td>\n",
              "      <td>101.0</td>\n",
              "    </tr>\n",
              "    <tr>\n",
              "      <th>2017.0</th>\n",
              "      <td>0.0</td>\n",
              "      <td>228.0</td>\n",
              "    </tr>\n",
              "    <tr>\n",
              "      <th>2018.0</th>\n",
              "      <td>0.0</td>\n",
              "      <td>292.0</td>\n",
              "    </tr>\n",
              "    <tr>\n",
              "      <th>2019.0</th>\n",
              "      <td>0.0</td>\n",
              "      <td>80.0</td>\n",
              "    </tr>\n",
              "    <tr>\n",
              "      <th>2020.0</th>\n",
              "      <td>0.0</td>\n",
              "      <td>8.0</td>\n",
              "    </tr>\n",
              "  </tbody>\n",
              "</table>\n",
              "</div>\n",
              "      <button class=\"colab-df-convert\" onclick=\"convertToInteractive('df-996c1253-0ba6-4bb4-ab4e-7641d39b097b')\"\n",
              "              title=\"Convert this dataframe to an interactive table.\"\n",
              "              style=\"display:none;\">\n",
              "        \n",
              "  <svg xmlns=\"http://www.w3.org/2000/svg\" height=\"24px\"viewBox=\"0 0 24 24\"\n",
              "       width=\"24px\">\n",
              "    <path d=\"M0 0h24v24H0V0z\" fill=\"none\"/>\n",
              "    <path d=\"M18.56 5.44l.94 2.06.94-2.06 2.06-.94-2.06-.94-.94-2.06-.94 2.06-2.06.94zm-11 1L8.5 8.5l.94-2.06 2.06-.94-2.06-.94L8.5 2.5l-.94 2.06-2.06.94zm10 10l.94 2.06.94-2.06 2.06-.94-2.06-.94-.94-2.06-.94 2.06-2.06.94z\"/><path d=\"M17.41 7.96l-1.37-1.37c-.4-.4-.92-.59-1.43-.59-.52 0-1.04.2-1.43.59L10.3 9.45l-7.72 7.72c-.78.78-.78 2.05 0 2.83L4 21.41c.39.39.9.59 1.41.59.51 0 1.02-.2 1.41-.59l7.78-7.78 2.81-2.81c.8-.78.8-2.07 0-2.86zM5.41 20L4 18.59l7.72-7.72 1.47 1.35L5.41 20z\"/>\n",
              "  </svg>\n",
              "      </button>\n",
              "      \n",
              "  <style>\n",
              "    .colab-df-container {\n",
              "      display:flex;\n",
              "      flex-wrap:wrap;\n",
              "      gap: 12px;\n",
              "    }\n",
              "\n",
              "    .colab-df-convert {\n",
              "      background-color: #E8F0FE;\n",
              "      border: none;\n",
              "      border-radius: 50%;\n",
              "      cursor: pointer;\n",
              "      display: none;\n",
              "      fill: #1967D2;\n",
              "      height: 32px;\n",
              "      padding: 0 0 0 0;\n",
              "      width: 32px;\n",
              "    }\n",
              "\n",
              "    .colab-df-convert:hover {\n",
              "      background-color: #E2EBFA;\n",
              "      box-shadow: 0px 1px 2px rgba(60, 64, 67, 0.3), 0px 1px 3px 1px rgba(60, 64, 67, 0.15);\n",
              "      fill: #174EA6;\n",
              "    }\n",
              "\n",
              "    [theme=dark] .colab-df-convert {\n",
              "      background-color: #3B4455;\n",
              "      fill: #D2E3FC;\n",
              "    }\n",
              "\n",
              "    [theme=dark] .colab-df-convert:hover {\n",
              "      background-color: #434B5C;\n",
              "      box-shadow: 0px 1px 3px 1px rgba(0, 0, 0, 0.15);\n",
              "      filter: drop-shadow(0px 1px 2px rgba(0, 0, 0, 0.3));\n",
              "      fill: #FFFFFF;\n",
              "    }\n",
              "  </style>\n",
              "\n",
              "      <script>\n",
              "        const buttonEl =\n",
              "          document.querySelector('#df-996c1253-0ba6-4bb4-ab4e-7641d39b097b button.colab-df-convert');\n",
              "        buttonEl.style.display =\n",
              "          google.colab.kernel.accessAllowed ? 'block' : 'none';\n",
              "\n",
              "        async function convertToInteractive(key) {\n",
              "          const element = document.querySelector('#df-996c1253-0ba6-4bb4-ab4e-7641d39b097b');\n",
              "          const dataTable =\n",
              "            await google.colab.kernel.invokeFunction('convertToInteractive',\n",
              "                                                     [key], {});\n",
              "          if (!dataTable) return;\n",
              "\n",
              "          const docLinkHtml = 'Like what you see? Visit the ' +\n",
              "            '<a target=\"_blank\" href=https://colab.research.google.com/notebooks/data_table.ipynb>data table notebook</a>'\n",
              "            + ' to learn more about interactive tables.';\n",
              "          element.innerHTML = '';\n",
              "          dataTable['output_type'] = 'display_data';\n",
              "          await google.colab.output.renderOutput(dataTable, element);\n",
              "          const docLink = document.createElement('div');\n",
              "          docLink.innerHTML = docLinkHtml;\n",
              "          element.appendChild(docLink);\n",
              "        }\n",
              "      </script>\n",
              "    </div>\n",
              "  </div>\n",
              "  "
            ],
            "text/plain": [
              "Is Good Practice   No    Yes\n",
              "Funding Year                \n",
              "2014.0            5.0   96.0\n",
              "2015.0            0.0   66.0\n",
              "2016.0            0.0  101.0\n",
              "2017.0            0.0  228.0\n",
              "2018.0            0.0  292.0\n",
              "2019.0            0.0   80.0\n",
              "2020.0            0.0    8.0"
            ]
          },
          "metadata": {},
          "execution_count": 182
        }
      ]
    },
    {
      "cell_type": "markdown",
      "source": [
        "Now we want to visualized the data for both countries. We will create subplot with shared x and y-axis to make the data "
      ],
      "metadata": {
        "id": "5Yxq9kpHDA2x"
      }
    },
    {
      "cell_type": "code",
      "source": [
        "fig, ax = plt.subplots(2,2, figsize=(10, 8), constrained_layout=True,\n",
        "                        sharex=True, sharey=True)\n",
        "\n",
        "\n",
        "#Germany #Good Practice\n",
        "\n",
        "ax[0,0].barh(Good_Practice_Germany.index, Good_Practice_Germany[\"No\"], label=\"No\")\n",
        "ax[0,0].barh(Good_Practice_Germany.index, Good_Practice_Germany[\"Yes\"], label=\"Yes\")\n",
        "ax[0,0].legend()\n",
        "ax[0,0].set_title('Germany', fontsize=14) # add title \n",
        "\n",
        "\n",
        "#Germany #Sucess story\n",
        "\n",
        "ax[0,1].barh(Success_story_Germany.index, Success_story_Germany[\"No\"], label=\"No\")\n",
        "ax[0,1].barh(Success_story_Germany.index, Success_story_Germany[\"Yes\"], label=\"Yes\")\n",
        "ax[0,1].legend()\n",
        "\n",
        "\n",
        "#Egypt #Good Practice\n",
        "\n",
        "ax[1,0].barh(Good_Practice_Egypt.index, Good_Practice_Egypt[\"No\"], label=\"No\")\n",
        "ax[1,0].barh(Good_Practice_Egypt.index, Good_Practice_Egypt[\"Yes\"], label=\"Yes\")\n",
        "ax[1,0].legend()\n",
        "ax[1,0].set_title('Egypt', fontsize=14)\n",
        "ax[1,0].set_xlabel('Is Good Practice?', fontsize=14)\n",
        "\n",
        "#Egypt # Success Story \n",
        "\n",
        "ax[1,1].barh(Success_story_Egypt.index, Success_story_Egypt[\"No\"], label=\"No\")\n",
        "ax[1,1].legend()\n",
        "ax[1,1].set_xlabel('Success Story?', fontsize=14)\n",
        "\n",
        "fig.suptitle(\"Eurasmus+ Projects Results\", fontsize=20)"
      ],
      "metadata": {
        "colab": {
          "base_uri": "https://localhost:8080/",
          "height": 616
        },
        "id": "Sfb8JT7UHpaI",
        "outputId": "7db9f0d2-2bb5-42cc-e2c0-ba0c1c3fd78e"
      },
      "execution_count": 221,
      "outputs": [
        {
          "output_type": "execute_result",
          "data": {
            "text/plain": [
              "Text(0.5, 0.98, 'Eurasmus+ Projects Results')"
            ]
          },
          "metadata": {},
          "execution_count": 221
        },
        {
          "output_type": "display_data",
          "data": {
            "image/png": "[encoded data removed]",
            "text/plain": [
              "<Figure size 720x576 with 4 Axes>"
            ]
          },
          "metadata": {
            "needs_background": "light"
          }
        }
      ]
    },
    {
      "cell_type": "markdown",
      "source": [
        "The end of the notebook. I hope you will be using the tips and tricks in your projects."
      ],
      "metadata": {
        "id": "H5u79YKLCsjD"
      }
    }
  ]
}